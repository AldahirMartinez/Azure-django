{
 "cells": [
  {
   "cell_type": "markdown",
   "metadata": {},
   "source": [
    "## How to construct a task - Readme: \n",
    "* Tasks are supposed to be small units of instructional input coupled with problem sets  \n",
    "* A task constsis of 1 problem set and one answer set (1:1 mapping)  \n",
    "* The more precise a task is specified, the more accuratly we can measure strengths / weaknesses and overall performance on a given subset of knowledge  \n",
    "* You can use any type functionality or cell that notebooks offer    \n",
    "* Sequence within the notebook does not matter  \n",
    "* If you use a code cell that requires learners to do some task, **you need to fill out a cell_description for that cell in order to register it correctly within the system**  \n",
    "* We encourage to build problem sets that can be viewed as self contained coherent units, that means we encourage the creation of minimum length problem sets  \n",
    "* Once you create a problem set, you can submit your notebook to the system. You do not need to clean up or change anything, the system will reformat the notebook into a correct and interpretable format  "
   ]
  },
  {
   "cell_type": "code",
   "execution_count": null,
   "metadata": {},
   "outputs": [],
   "source": []
  },
  {
   "cell_type": "code",
   "execution_count": null,
   "metadata": {},
   "outputs": [],
   "source": []
  },
  {
   "cell_type": "markdown",
   "metadata": {},
   "source": [
    "### Cell description for a task via JSON:\n",
    "{'cell_description':   \n",
    "{\"name\": string,  \n",
    "\"input_type\": string,  \n",
    "\"input_values\": [array],  \n",
    "\"input_source\": string,  \n",
    "\"output_values\": [array],  \n",
    "\"output_source\": string,  \n",
    "\"output_variance\": int, -> [0-100]  \n",
    "\"output_type\": number,  \n",
    "\"p_media_encoding\": [{\"media source\":{\"start\": time_stamp [hh:mm:ss], \"duration\": time_stamp [hh:mm:ss], \"url\": string}]},  \n",
    "\"task_complexity\": int, -> [0-100]  \n",
    "\"time_complexity\": time_stamp hh:mm:ss,  \n",
    "\"l_type\": array, [int [0-100],int [0-100], int [0-100]]}}  \n",
    "\n",
    "### Explanation: \n",
    "**name:** Provide a short name of the problem set (max 100 characters)  \n",
    "\n",
    "**Input type -> Output type Evaluation**\n",
    "We support a series of combinations for varying input -> output type evaluations,\n",
    "e.g. if your input is of an image format, we can evaluate this against string / dictionary / audio / np array\n",
    "\n",
    "| Input type | Output type |\n",
    "| --- | --- |\n",
    "| string | string |\n",
    "|  | number |\n",
    "|  | function |\n",
    "|  | text |\n",
    "|  | audio |\n",
    "|  | dictionary |\n",
    "| dictionary| dictionary |\n",
    "|  | number |\n",
    "|  | string |\n",
    "| np | np |\n",
    "|  | number |\n",
    "|  | dictionary |\n",
    "| function | number |\n",
    "| image | string |\n",
    "|  | dictionary |\n",
    "|  | audio |\n",
    "|  | np |\n",
    "| nn | np |\n",
    "|  | dictionary |\n",
    "|  | image |\n",
    "|  | audio |\n",
    "| text | text |\n",
    "|  | audio |\n",
    "|  | object |\n",
    "| audio | audio |\n",
    "|  | image |\n",
    "|  | np |\n",
    "|  | text |\n",
    "|  | string |\n",
    "\n",
    "\n",
    "\n",
    "**input_values (optional):** Input values are required when we want to create a mapping of sorts **y = f(x)** whereas:  \n",
    "* x is the output  \n",
    "* y is the input  \n",
    "and we want to check if the user understands how to construct f (e.g. representing a mathematical function, a neural network, etc..  \n",
    "\n",
    "**input_source (optional - as alternative to input_values):** Input source is required when input_values cannot be specified as text format, e.g. in the case of images or audio - in that case the user can create the input file in the notebook and then persist it to a database by putting in the refernce  \n",
    "\n",
    "**output_values:** Output values are results of f(x)  \n",
    "If input variables are defined, they need to match up with the length of the input values (3 inputs -> 3 outputs), however they can be of a different type. Based on that we can evaluate the correctness of a solution. The outputs can either be manually defined or taken from values, that the task / model produces.\n",
    "\n",
    "**output_source (optional to output_values):** Output source is required when output_values cannot be specified as a text format, e.g. in the case of images or audio - in that case the user can create the output file in the notebook and then persist it to a database by putting in the refernce  \n",
    "\n",
    "**output_variance:** we allow to attach variance to an expected output (e.g. rounding errors or general unsharpness in the expected output that would result in a correct / incorrect output. Expected outputs can have a +/- Variance (in %), if no exact value is to be expected. Applies to:\n",
    "* strings\n",
    "* numbers\n",
    "* images\n",
    "* audio\n",
    "* dictionary (e.g. in the form of predictions from a neural network)\n",
    "* text\n",
    "* np array  \n",
    "When we do evaluation internally we validate against this threshold and calculate a correctness score in order to classify the result\n",
    "\n",
    "**p_media_encoding:** Allows to specify an array of streaming media (audio / video) to be attached to a given task, e.g. a youtube instructional video. Due to the nature of how we construct tasks (in its smallest form, we allow to specify a starting time and duration for a given task)\n",
    "\n",
    "**task_complexity:** Estimates the (initial subjective) task complexity/difficulty [0-100]\n",
    "**time_complexity:** Estimates the (initial subjective) time complexity - specified as timestamp in format hh:mm:ss  \n",
    "**l_type:** (initial subjective) estimation of the task, what kind of learner type it adresses [visual, auditory, tactile]\n",
    "\n"
   ]
  },
  {
   "cell_type": "markdown",
   "metadata": {},
   "source": [
    "## Example how to build a task \n",
    "**Description of task, what the learner is supposed to accomplish**\n",
    "\n",
    "How big is the universe (in light years)?"
   ]
  },
  {
   "cell_type": "code",
   "execution_count": 17,
   "metadata": {},
   "outputs": [
    {
     "data": {
      "text/html": [
       "<iframe width=\"560\" height=\"315\" src=\"https://www.youtube.com/embed/nQHOYd4G840\" frameborder=\"0\" allow=\"accelerometer; autoplay; encrypted-media; gyroscope; picture-in-picture\" allowfullscreen></iframe>\n"
      ],
      "text/plain": [
       "<IPython.core.display.HTML object>"
      ]
     },
     "metadata": {},
     "output_type": "display_data"
    }
   ],
   "source": [
    "%%html\n",
    "<iframe width=\"560\" height=\"315\" src=\"https://www.youtube.com/embed/nQHOYd4G840\" frameborder=\"0\" allow=\"accelerometer; autoplay; encrypted-media; gyroscope; picture-in-picture\" allowfullscreen></iframe>"
   ]
  },
  {
   "cell_type": "code",
   "execution_count": 5,
   "metadata": {},
   "outputs": [
    {
     "data": {
      "text/plain": "{'cell_description': {'name': 'How big is the universe',\n  'input_values': '',\n  'input_type': '',\n  'input_source': '',\n  'output_values': [93],\n  'output_variance': 10,\n  'output_type': 'number',\n  'output_source': '',\n  'p_media_encoding': {'youtube': {'start': '00:00:00',\n    'duration': '00:10:00',\n    'url': 'nQHOYd4G840'}},\n  'task_complexity': 10,\n  'time_complexity': '00:10:00',\n  'l_type': ['50,50,0']}}"
     },
     "execution_count": 5,
     "metadata": {},
     "output_type": "execute_result"
    }
   ],
   "source": [
    "#Code cell\n",
    "#Code\n",
    "\n",
    "result = 0\n",
    "\n",
    "#Json Description - mandatory to be filled out\n",
    "{\"cell_description\": {\n",
    "\"name\": \"How big is the universe\",\n",
    "\"input_values\": \"\",\n",
    "\"input_type\": \"\",\n",
    "\"input_source\": \"\",\n",
    "\"output_values\": [93],\n",
    "\"output_variance\": 10,\n",
    "\"output_type\": \"number\",\n",
    "\"output_source\": \"\",\n",
    "\"p_media_encoding\": {\"youtube\":{\"start\": \"00:00:00\", \"duration\": \"00:10:00\", \"url\": \"nQHOYd4G840\"}},\n",
    "\"task_complexity\": 10,\n",
    "\"time_complexity\": \"00:10:00\",\n",
    "\"l_type\": [\"50,50,0\"]}}\n"
   ]
  }
 ],
 "metadata": {
  "colab": {
   "collapsed_sections": [],
   "name": "Untitled9.ipynb",
   "provenance": []
  },
  "kernelspec": {
   "display_name": "Python 3",
   "language": "python",
   "name": "python3"
  },
  "language_info": {
   "codemirror_mode": {
    "name": "ipython",
    "version": 3
   },
   "file_extension": ".py",
   "mimetype": "text/x-python",
   "name": "python",
   "nbconvert_exporter": "python",
   "pygments_lexer": "ipython3",
   "version": "3.7.3"
  }
 },
 "nbformat": 4,
 "nbformat_minor": 2
}